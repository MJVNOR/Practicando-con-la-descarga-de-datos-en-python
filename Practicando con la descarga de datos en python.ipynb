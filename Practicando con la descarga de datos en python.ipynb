{
 "cells": [
  {
   "cell_type": "code",
   "execution_count": 10,
   "metadata": {},
   "outputs": [],
   "source": [
    "import os\n",
    "import pandas as pd\n",
    "import numpy as np\n",
    "# libreria para la descarga de datos\n",
    "import wget\n",
    "import zipfile\n",
    "import os"
   ]
  },
  {
   "cell_type": "code",
   "execution_count": 13,
   "metadata": {},
   "outputs": [],
   "source": [
    "# Checamos si ya existe una carpeta del zip para no descargarlo dos veces\n",
    "if not os.path.isdir('./catalogos'):\n",
    "    # Checamos si ya existe el zip para no descargarlo dos veces\n",
    "    if not os.path.exists('./atus_anual_csv.zip'):\n",
    "        # Url del zip de Accidentes de tránsito terrestre en zonas urbanas y suburbanas, descargadas del inegi\n",
    "        # Link del zip:https://www.inegi.org.mx/programas/accidentes/#Datos_abiertos\n",
    "        url='https://www.inegi.org.mx/contenidos/programas/accidentes/datosabiertos/atus_anual_csv.zip'\n",
    "        wget.download(url)\n",
    "        # Descomprimimos el zip\n",
    "        with zipfile.ZipFile('./atus_anual_csv.zip', 'r') as zip_ref:\n",
    "            zip_ref.extractall(\"./\")\n",
    "        # Borramos el zip para quedarnos con las carpetas\n",
    "        os.remove(\"atus_anual_csv.zip\")"
   ]
  },
  {
   "cell_type": "code",
   "execution_count": 14,
   "metadata": {},
   "outputs": [],
   "source": [
    "if not os.path.exists('./diccionariodedatos.csv'):\n",
    "    # Url del zip de Accidentes Automovilisticos en el estado de Veracruz 2015, descargados desde datamx\n",
    "    # Link del csv: http://datamx.io/dataset/accidentes-automovilisticos-en-el-estado-de-veracruz-2015\n",
    "    url='https://www.dropbox.com/s/12hfgircejyljwa/diccionariodedatos.csv?dl=0'\n",
    "    wget.download(url)"
   ]
  },
  {
   "cell_type": "code",
   "execution_count": null,
   "metadata": {},
   "outputs": [],
   "source": []
  }
 ],
 "metadata": {
  "kernelspec": {
   "display_name": "Python 3.6.2 64-bit",
   "language": "python",
   "name": "python3"
  },
  "language_info": {
   "codemirror_mode": {
    "name": "ipython",
    "version": 3
   },
   "file_extension": ".py",
   "mimetype": "text/x-python",
   "name": "python",
   "nbconvert_exporter": "python",
   "pygments_lexer": "ipython3",
   "version": "3.6.2"
  },
  "orig_nbformat": 4,
  "vscode": {
   "interpreter": {
    "hash": "7bbc88b994272282fd1a09defab1a3c7c3501499b032f2963e06b3f53c7729f7"
   }
  }
 },
 "nbformat": 4,
 "nbformat_minor": 2
}
